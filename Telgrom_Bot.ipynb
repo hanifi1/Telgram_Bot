{
 "cells": [
  {
   "cell_type": "code",
   "execution_count": 2,
   "id": "83d58805",
   "metadata": {},
   "outputs": [],
   "source": [
    "# !pip install pyTelegramBotAPI"
   ]
  },
  {
   "cell_type": "code",
   "execution_count": 13,
   "id": "c31e1c6a",
   "metadata": {},
   "outputs": [],
   "source": [
    "import os\n",
    "import telebot"
   ]
  },
  {
   "cell_type": "code",
   "execution_count": 14,
   "id": "6eea90e4",
   "metadata": {},
   "outputs": [
    {
     "data": {
      "text/plain": [
       "['.git',\n",
       " '.idea',\n",
       " '.ipynb_checkpoints',\n",
       " 'API_KEY.txt',\n",
       " 'Bot info.txt',\n",
       " 'Telgrom_Bot.ipynb']"
      ]
     },
     "execution_count": 14,
     "metadata": {},
     "output_type": "execute_result"
    }
   ],
   "source": [
    "os.listdir()"
   ]
  },
  {
   "cell_type": "code",
   "execution_count": 15,
   "id": "7646c97e",
   "metadata": {},
   "outputs": [],
   "source": [
    "with open('API_KEY.txt') as f:\n",
    "    key = f.read()\n",
    "#     print(key)"
   ]
  },
  {
   "cell_type": "code",
   "execution_count": 16,
   "id": "867217a3",
   "metadata": {},
   "outputs": [],
   "source": [
    "bot = telebot.TeleBot(key)"
   ]
  },
  {
   "cell_type": "code",
   "execution_count": 17,
   "id": "3b5bfc9b",
   "metadata": {},
   "outputs": [
    {
     "data": {
      "text/plain": [
       "<bound method TeleBot.polling of <telebot.TeleBot object at 0x0000019E5BF73DF0>>"
      ]
     },
     "execution_count": 17,
     "metadata": {},
     "output_type": "execute_result"
    }
   ],
   "source": [
    "@bot.message_handler(commands=['Hello Telgram'])\n",
    "def greet(message):\n",
    "    bot.reply_to(message, \"Hey, welcome to my Bot\")\n",
    "\n",
    "bot.polling"
   ]
  },
  {
   "cell_type": "code",
   "execution_count": null,
   "id": "52fcd5b0",
   "metadata": {},
   "outputs": [],
   "source": []
  }
 ],
 "metadata": {
  "kernelspec": {
   "display_name": "Python 3",
   "language": "python",
   "name": "python3"
  },
  "language_info": {
   "codemirror_mode": {
    "name": "ipython",
    "version": 3
   },
   "file_extension": ".py",
   "mimetype": "text/x-python",
   "name": "python",
   "nbconvert_exporter": "python",
   "pygments_lexer": "ipython3",
   "version": "3.8.8"
  }
 },
 "nbformat": 4,
 "nbformat_minor": 5
}
